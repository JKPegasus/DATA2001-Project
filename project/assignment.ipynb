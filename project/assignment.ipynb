{
 "cells": [
  {
   "cell_type": "markdown",
   "id": "f9424826",
   "metadata": {},
   "source": [
    "# Assignment\n"
   ]
  },
  {
   "cell_type": "code",
   "execution_count": 1,
   "id": "e2d0589d",
   "metadata": {},
   "outputs": [],
   "source": [
    "import pandas as pd\n",
    "import geopandas as gpd\n",
    "import psycopg2\n",
    "import json\n",
    "from sqlalchemy import create_engine, text\n",
    "from sqlalchemy.types import Integer, String\n",
    "from shapely.geometry import shape"
   ]
  },
  {
   "cell_type": "markdown",
   "id": "fc4795ae",
   "metadata": {},
   "source": [
    "## Clear data"
   ]
  },
  {
   "cell_type": "markdown",
   "id": "b6c6cf05",
   "metadata": {},
   "source": [
    "Collate the data in \"SA2.zip\",get the SA2code, SA2name data content and GCC-related information.And filter out the line where the blank information is.Finally, we check whether all the geometry objects in the geometry column are valid and not duplicated."
   ]
  },
  {
   "cell_type": "code",
   "execution_count": 15,
   "id": "81e777a3",
   "metadata": {
    "scrolled": true
   },
   "outputs": [
    {
     "data": {
      "text/html": [
       "<div>\n",
       "<style scoped>\n",
       "    .dataframe tbody tr th:only-of-type {\n",
       "        vertical-align: middle;\n",
       "    }\n",
       "\n",
       "    .dataframe tbody tr th {\n",
       "        vertical-align: top;\n",
       "    }\n",
       "\n",
       "    .dataframe thead th {\n",
       "        text-align: right;\n",
       "    }\n",
       "</style>\n",
       "<table border=\"1\" class=\"dataframe\">\n",
       "  <thead>\n",
       "    <tr style=\"text-align: right;\">\n",
       "      <th></th>\n",
       "      <th>sa2_code</th>\n",
       "      <th>sa2_name</th>\n",
       "      <th>gcc_code</th>\n",
       "      <th>gcc_name</th>\n",
       "      <th>geometry</th>\n",
       "    </tr>\n",
       "  </thead>\n",
       "  <tbody>\n",
       "    <tr>\n",
       "      <th>0</th>\n",
       "      <td>101021007</td>\n",
       "      <td>Braidwood</td>\n",
       "      <td>1RNSW</td>\n",
       "      <td>Rest of NSW</td>\n",
       "      <td>POLYGON ((149.58424 -35.44426, 149.58444 -35.4...</td>\n",
       "    </tr>\n",
       "    <tr>\n",
       "      <th>1</th>\n",
       "      <td>101021008</td>\n",
       "      <td>Karabar</td>\n",
       "      <td>1RNSW</td>\n",
       "      <td>Rest of NSW</td>\n",
       "      <td>POLYGON ((149.21899 -35.36738, 149.21800 -35.3...</td>\n",
       "    </tr>\n",
       "    <tr>\n",
       "      <th>2</th>\n",
       "      <td>101021009</td>\n",
       "      <td>Queanbeyan</td>\n",
       "      <td>1RNSW</td>\n",
       "      <td>Rest of NSW</td>\n",
       "      <td>POLYGON ((149.21326 -35.34325, 149.21619 -35.3...</td>\n",
       "    </tr>\n",
       "    <tr>\n",
       "      <th>3</th>\n",
       "      <td>101021010</td>\n",
       "      <td>Queanbeyan - East</td>\n",
       "      <td>1RNSW</td>\n",
       "      <td>Rest of NSW</td>\n",
       "      <td>POLYGON ((149.24034 -35.34781, 149.24024 -35.3...</td>\n",
       "    </tr>\n",
       "    <tr>\n",
       "      <th>4</th>\n",
       "      <td>101021012</td>\n",
       "      <td>Queanbeyan West - Jerrabomberra</td>\n",
       "      <td>1RNSW</td>\n",
       "      <td>Rest of NSW</td>\n",
       "      <td>POLYGON ((149.19572 -35.36126, 149.19970 -35.3...</td>\n",
       "    </tr>\n",
       "    <tr>\n",
       "      <th>...</th>\n",
       "      <td>...</td>\n",
       "      <td>...</td>\n",
       "      <td>...</td>\n",
       "      <td>...</td>\n",
       "      <td>...</td>\n",
       "    </tr>\n",
       "    <tr>\n",
       "      <th>2463</th>\n",
       "      <td>801111141</td>\n",
       "      <td>Namadgi</td>\n",
       "      <td>8ACTE</td>\n",
       "      <td>Australian Capital Territory</td>\n",
       "      <td>POLYGON ((148.80407 -35.37619, 148.80417 -35.3...</td>\n",
       "    </tr>\n",
       "    <tr>\n",
       "      <th>2466</th>\n",
       "      <td>901011001</td>\n",
       "      <td>Christmas Island</td>\n",
       "      <td>9OTER</td>\n",
       "      <td>Other Territories</td>\n",
       "      <td>POLYGON ((105.67393 -10.41566, 105.67399 -10.4...</td>\n",
       "    </tr>\n",
       "    <tr>\n",
       "      <th>2467</th>\n",
       "      <td>901021002</td>\n",
       "      <td>Cocos (Keeling) Islands</td>\n",
       "      <td>9OTER</td>\n",
       "      <td>Other Territories</td>\n",
       "      <td>MULTIPOLYGON (((96.91512 -12.14044, 96.91513 -...</td>\n",
       "    </tr>\n",
       "    <tr>\n",
       "      <th>2468</th>\n",
       "      <td>901031003</td>\n",
       "      <td>Jervis Bay</td>\n",
       "      <td>9OTER</td>\n",
       "      <td>Other Territories</td>\n",
       "      <td>MULTIPOLYGON (((150.69567 -35.18295, 150.69556...</td>\n",
       "    </tr>\n",
       "    <tr>\n",
       "      <th>2469</th>\n",
       "      <td>901041004</td>\n",
       "      <td>Norfolk Island</td>\n",
       "      <td>9OTER</td>\n",
       "      <td>Other Territories</td>\n",
       "      <td>MULTIPOLYGON (((167.96325 -29.07212, 167.96326...</td>\n",
       "    </tr>\n",
       "  </tbody>\n",
       "</table>\n",
       "<p>2454 rows × 5 columns</p>\n",
       "</div>"
      ],
      "text/plain": [
       "       sa2_code                         sa2_name gcc_code  \\\n",
       "0     101021007                        Braidwood    1RNSW   \n",
       "1     101021008                          Karabar    1RNSW   \n",
       "2     101021009                       Queanbeyan    1RNSW   \n",
       "3     101021010                Queanbeyan - East    1RNSW   \n",
       "4     101021012  Queanbeyan West - Jerrabomberra    1RNSW   \n",
       "...         ...                              ...      ...   \n",
       "2463  801111141                          Namadgi    8ACTE   \n",
       "2466  901011001                 Christmas Island    9OTER   \n",
       "2467  901021002          Cocos (Keeling) Islands    9OTER   \n",
       "2468  901031003                       Jervis Bay    9OTER   \n",
       "2469  901041004                   Norfolk Island    9OTER   \n",
       "\n",
       "                          gcc_name  \\\n",
       "0                      Rest of NSW   \n",
       "1                      Rest of NSW   \n",
       "2                      Rest of NSW   \n",
       "3                      Rest of NSW   \n",
       "4                      Rest of NSW   \n",
       "...                            ...   \n",
       "2463  Australian Capital Territory   \n",
       "2466             Other Territories   \n",
       "2467             Other Territories   \n",
       "2468             Other Territories   \n",
       "2469             Other Territories   \n",
       "\n",
       "                                               geometry  \n",
       "0     POLYGON ((149.58424 -35.44426, 149.58444 -35.4...  \n",
       "1     POLYGON ((149.21899 -35.36738, 149.21800 -35.3...  \n",
       "2     POLYGON ((149.21326 -35.34325, 149.21619 -35.3...  \n",
       "3     POLYGON ((149.24034 -35.34781, 149.24024 -35.3...  \n",
       "4     POLYGON ((149.19572 -35.36126, 149.19970 -35.3...  \n",
       "...                                                 ...  \n",
       "2463  POLYGON ((148.80407 -35.37619, 148.80417 -35.3...  \n",
       "2466  POLYGON ((105.67393 -10.41566, 105.67399 -10.4...  \n",
       "2467  MULTIPOLYGON (((96.91512 -12.14044, 96.91513 -...  \n",
       "2468  MULTIPOLYGON (((150.69567 -35.18295, 150.69556...  \n",
       "2469  MULTIPOLYGON (((167.96325 -29.07212, 167.96326...  \n",
       "\n",
       "[2454 rows x 5 columns]"
      ]
     },
     "execution_count": 15,
     "metadata": {},
     "output_type": "execute_result"
    }
   ],
   "source": [
    "SA2 = gpd.read_file(\"SA2/SA2_2021_AUST_GDA2020.shp\")\n",
    "columns_to_keep = ['SA2_CODE21', 'SA2_NAME21','GCC_CODE21', 'GCC_NAME21', 'geometry']\n",
    "SA2 = SA2[columns_to_keep]\n",
    "# Canonical column name\n",
    "SA2.rename(columns={'SA2_CODE21': 'sa2_code'}, inplace=True)\n",
    "SA2.rename(columns={'SA2_NAME21': 'sa2_name'}, inplace=True)\n",
    "SA2.rename(columns={'GCC_CODE21': 'gcc_code'}, inplace=True)\n",
    "SA2.rename(columns={'GCC_NAME21': 'gcc_name'}, inplace=True)\n",
    "SA2.dropna(inplace=True)\n",
    "\n",
    "SA2.drop_duplicates(subset=['geometry'], inplace=True)\n",
    "valid_geom = SA2['geometry'].apply(lambda x: shape(x).is_valid)\n",
    "SA2 = SA2[valid_geom]\n",
    "SA2"
   ]
  },
  {
   "cell_type": "markdown",
   "id": "4b4e8913",
   "metadata": {},
   "source": [
    "Collate the data in \"Stops.txt\",some content that was not relevant for later analysis was deleted, leaving the content related to the platforms in the database and their latitude and longitude data."
   ]
  },
  {
   "cell_type": "code",
   "execution_count": 2,
   "id": "d81ae918",
   "metadata": {},
   "outputs": [],
   "source": [
    "Stops = pd.read_csv(\"Stops.txt\", delimiter=\",\")\n",
    "columns_to_keep = ['stop_id','stop_code','stop_name', 'stop_lat','stop_lon']\n",
    "Stops = Stops[columns_to_keep]\n",
    "# Canonical column name\n",
    "Stops.rename(columns={'stop_lat': 'latitude'}, inplace=True)\n",
    "Stops.rename(columns={'stop_lon': 'longitude'}, inplace=True)"
   ]
  },
  {
   "cell_type": "markdown",
   "id": "d1b5ab97",
   "metadata": {},
   "source": [
    "Collate the data in \"Businesses.csv\", convert the data content to the corresponding data format,and filtered the data, keeping only data on industry type, sa2 and total number of businesses.And check if the value of SA2 is valid."
   ]
  },
  {
   "cell_type": "code",
   "execution_count": 169,
   "id": "fa71c764",
   "metadata": {},
   "outputs": [],
   "source": [
    "Businesses =  pd.read_csv('Businesses.csv')\n",
    "Businesses['total_businesses'] = Businesses['total_businesses'].astype(int)\n",
    "columns_to_keep = ['industry_code','industry_name','sa2_code','sa2_name','total_businesses']\n",
    "Businesses = Businesses[columns_to_keep]\n",
    "compare = SA2['sa2_code'].astype(int)\n",
    "Businesses['match'] = Businesses['sa2_code'].isin(compare)\n",
    "Businesses = Businesses[Businesses['match'] == True].drop(columns=['match'])"
   ]
  },
  {
   "cell_type": "markdown",
   "id": "963a6f8a",
   "metadata": {},
   "source": [
    "Collate the data in \"PollingPlaces2019.csv\",some content that was not relevant for later analysis was removed, and data with blank values and duplicate coordinates are also eliminated."
   ]
  },
  {
   "cell_type": "code",
   "execution_count": 2,
   "id": "2c93f64a",
   "metadata": {},
   "outputs": [],
   "source": [
    "Polls = pd.read_csv(\"PollingPlaces2019.csv\")\n",
    "Polls.drop_duplicates(subset=['the_geom'], inplace=True)\n",
    "columns_to_keep = ['polling_place_id','polling_place_name','latitude','longitude']\n",
    "Polls = Polls[columns_to_keep]\n",
    "Polls.dropna(inplace=True)"
   ]
  },
  {
   "cell_type": "markdown",
   "id": "94e9c926",
   "metadata": {},
   "source": [
    "Collate the data in \"Catchments.zip\", combine the three data information into a data table, in descending order of USE_ID, because in task2, the 0-19 year old people are merged into \"young people \", so the\" CATCH_TYPE \",\" ADD_DATE\",\"KINDERGART\",\"YEAR1-12\" columns are all removed. Keep only columns for \"USE_ID \",\" USE_DESC\",\"geometry\".And filter out the line where the blank information is. Finally, we check whether all the geometry objects in the geometry column are valid and not duplicated.And convert CRS to 7844."
   ]
  },
  {
   "cell_type": "code",
   "execution_count": 16,
   "id": "00cbf9f1",
   "metadata": {},
   "outputs": [],
   "source": [
    "School_future = gpd.read_file(\"Catchments/catchments/catchments_future.shp\")\n",
    "School_primary = gpd.read_file(\"Catchments/catchments/catchments_primary.shp\")\n",
    "School_secondary = gpd.read_file(\"Catchments/catchments/catchments_secondary.shp\")\n",
    "merged_schools = gpd.GeoDataFrame(pd.concat([School_future, School_primary, School_secondary], ignore_index=True))\n",
    "columns_to_keep = ['USE_ID','USE_DESC','geometry']\n",
    "School = merged_schools[columns_to_keep].copy()\n",
    "School['USE_ID'] = School['USE_ID'].astype(int)\n",
    "School.dropna(inplace=True)\n",
    "\n",
    "School.drop_duplicates(subset=['geometry'], inplace=True)\n",
    "School.drop_duplicates(subset=['USE_ID'], inplace=True)\n",
    "\n",
    "valid_geom = School['geometry'].apply(lambda x: shape(x).is_valid)\n",
    "School = School[valid_geom]\n",
    "\n",
    "School['geometry'] = School['geometry'].to_crs(epsg=7844)\n",
    "\n",
    "# Canonical column name\n",
    "School.rename(columns={'USE_ID': 'use_id'}, inplace=True)\n",
    "School.rename(columns={'USE_DESC': 'use_desc'}, inplace=True)"
   ]
  },
  {
   "cell_type": "markdown",
   "id": "8c33094e",
   "metadata": {},
   "source": [
    "Collate the data in \"Population.csv\", convert the data content to the corresponding data format, and add a column named \"young_people\" to record young people aged 0-19 in the current region."
   ]
  },
  {
   "cell_type": "code",
   "execution_count": 55,
   "id": "77d1d613",
   "metadata": {
    "scrolled": true
   },
   "outputs": [],
   "source": [
    "Population = pd.read_csv(\"Population.csv\")\n",
    "\n",
    "Population['0-4_people'] = Population['0-4_people'].astype(int)\n",
    "Population['5-9_people'] = Population['5-9_people'].astype(int)\n",
    "Population['10-14_people'] = Population['10-14_people'].astype(int)\n",
    "Population['15-19_people'] = Population['15-19_people'].astype(int)\n",
    "\n",
    "young_people = Population['0-4_people'] + Population['5-9_people'] + Population['10-14_people'] + Population['15-19_people']\n",
    "Population['young_people'] = young_people\n",
    "\n",
    "Population['sa2_code'] = Population['sa2_code'].astype(int)\n",
    "Population['total_people'] = Population['total_people'].astype(int)\n",
    "columns_to_keep = ['sa2_code','sa2_name','young_people','total_people']\n",
    "Population = Population[columns_to_keep]"
   ]
  },
  {
   "cell_type": "markdown",
   "id": "9f502a18",
   "metadata": {},
   "source": [
    "Collate the data in \"incomes.csv\", convert the data content into the corresponding data format, clear the abnormal information, and add the column \"total_income\" to record the total Income in the current region."
   ]
  },
  {
   "cell_type": "code",
   "execution_count": 171,
   "id": "f5faf32e",
   "metadata": {
    "scrolled": true
   },
   "outputs": [],
   "source": [
    "Income = pd.read_csv(\"Income.csv\")\n",
    "\n",
    "contains_np = Income.apply(lambda row: 'np' in row.values, axis=1)\n",
    "Income = Income[~contains_np]\n",
    "\n",
    "Income['earners'] = Income['earners'].astype(int)\n",
    "Income['mean_income'] = Income['mean_income'].astype(int)\n",
    "total_income = Income['earners'] * Income['mean_income']\n",
    "Income['total_income'] = total_income\n",
    "# Canonical column name\n",
    "Income.rename(columns={'sa2_code21': 'sa2_code'}, inplace=True)\n"
   ]
  },
  {
   "cell_type": "markdown",
   "id": "d10bbb3c",
   "metadata": {},
   "source": [
    "## Import all datasets  PostgreSQL server"
   ]
  },
  {
   "cell_type": "markdown",
   "id": "b646ac3c",
   "metadata": {},
   "source": [
    "Use the pgconnect function to connect to the PostgreSQL server and load the PostGIS extension."
   ]
  },
  {
   "cell_type": "code",
   "execution_count": 3,
   "id": "d8067d2c",
   "metadata": {},
   "outputs": [],
   "source": [
    "def pgconnect(credential_filepath, db_schema=\"public\"):\n",
    "    with open(credential_filepath) as f:\n",
    "        db_conn_dict = json.load(f)\n",
    "        host       = db_conn_dict['host']\n",
    "        db_user    = db_conn_dict['user']\n",
    "        db_pw      = db_conn_dict['password']\n",
    "        default_db = db_conn_dict['user']\n",
    "        port       = db_conn_dict['port']\n",
    "        try:\n",
    "            db = create_engine(f'postgresql+psycopg2://{db_user}:{db_pw}@{host}:{port}/{default_db}', echo=False)\n",
    "            conn = db.connect()\n",
    "            print('Connected successfully.')\n",
    "        except Exception as e:\n",
    "            print(\"Unable to connect to the database.\")\n",
    "            print(e)\n",
    "            db, conn = None, None\n",
    "        return db,conn"
   ]
  },
  {
   "cell_type": "code",
   "execution_count": 4,
   "id": "c935d0eb",
   "metadata": {},
   "outputs": [
    {
     "name": "stdout",
     "output_type": "stream",
     "text": [
      "Connected successfully.\n"
     ]
    }
   ],
   "source": [
    "credentials = \"Credentials.json\"\n",
    "db, conn = pgconnect(credentials)"
   ]
  },
  {
   "cell_type": "code",
   "execution_count": 5,
   "id": "603514b6",
   "metadata": {},
   "outputs": [
    {
     "data": {
      "text/plain": [
       "<sqlalchemy.engine.cursor.LegacyCursorResult at 0x2043fc10c90>"
      ]
     },
     "execution_count": 5,
     "metadata": {},
     "output_type": "execute_result"
    }
   ],
   "source": [
    "conn.execute(\"CREATE EXTENSION IF NOT EXISTS postgis;\")"
   ]
  },
  {
   "cell_type": "markdown",
   "id": "18891965",
   "metadata": {},
   "source": [
    "Create the structure of the table, define foreign keys and primary keys to establish associations between different tables."
   ]
  },
  {
   "cell_type": "code",
   "execution_count": 106,
   "id": "3b04daa0",
   "metadata": {},
   "outputs": [
    {
     "data": {
      "text/plain": [
       "<sqlalchemy.engine.cursor.LegacyCursorResult at 0x1806c05b850>"
      ]
     },
     "execution_count": 106,
     "metadata": {},
     "output_type": "execute_result"
    }
   ],
   "source": [
    "# SA2\n",
    "db.execute('''\n",
    "CREATE TABLE sa2 (\n",
    "    sa2_code VARCHAR(255) PRIMARY KEY,\n",
    "    sa2_name VARCHAR(255),\n",
    "    GCC_code VARCHAR(255),\n",
    "    GCC_name VARCHAR(255),\n",
    "    geometry geometry(MULTIPOLYGON, 7844)\n",
    ")\n",
    "''')"
   ]
  },
  {
   "cell_type": "code",
   "execution_count": 6,
   "id": "abe5ed34",
   "metadata": {},
   "outputs": [
    {
     "data": {
      "text/plain": [
       "<sqlalchemy.engine.cursor.LegacyCursorResult at 0x1a51f5c8b50>"
      ]
     },
     "execution_count": 6,
     "metadata": {},
     "output_type": "execute_result"
    }
   ],
   "source": [
    "# Stops\n",
    "db.execute('''\n",
    "CREATE TABLE stops (\n",
    "    stop_id VARCHAR(255) PRIMARY KEY,\n",
    "    stop_code VARCHAR(255),\n",
    "    stop_name VARCHAR(255),\n",
    "    latitude FLOAT,\n",
    "    longitude FLOAT,\n",
    "    sa2_code VARCHAR(255),\n",
    "    FOREIGN KEY (sa2_code) REFERENCES SA2(sa2_code)\n",
    ")\n",
    "''')"
   ]
  },
  {
   "cell_type": "code",
   "execution_count": 108,
   "id": "271078de",
   "metadata": {},
   "outputs": [
    {
     "data": {
      "text/plain": [
       "<sqlalchemy.engine.cursor.LegacyCursorResult at 0x1806610b850>"
      ]
     },
     "execution_count": 108,
     "metadata": {},
     "output_type": "execute_result"
    }
   ],
   "source": [
    "# Businesses\n",
    "db.execute('''\n",
    "CREATE TABLE businesses (\n",
    "    Industry_code VARCHAR(255),\n",
    "    industry_name VARCHAR(255),\n",
    "    sa2_code VARCHAR(255),\n",
    "    sa2_name VARCHAR(255),\n",
    "    total_businesses INTEGER,\n",
    "    FOREIGN KEY (sa2_code) REFERENCES SA2(sa2_code)\n",
    ")\n",
    "''')"
   ]
  },
  {
   "cell_type": "code",
   "execution_count": 6,
   "id": "88ed4237",
   "metadata": {},
   "outputs": [
    {
     "data": {
      "text/plain": [
       "<sqlalchemy.engine.cursor.LegacyCursorResult at 0x204434afc10>"
      ]
     },
     "execution_count": 6,
     "metadata": {},
     "output_type": "execute_result"
    }
   ],
   "source": [
    "# Polls\n",
    "db.execute('''\n",
    "CREATE TABLE polls (\n",
    "    polling_place_id INTEGER PRIMARY KEY,\n",
    "    polling_place_name VARCHAR(255),\n",
    "    latitude FLOAT,\n",
    "    longitude FLOAT,\n",
    "    sa2_code VARCHAR(255),\n",
    "    FOREIGN KEY (sa2_code) REFERENCES SA2(sa2_code)\n",
    ")\n",
    "''')"
   ]
  },
  {
   "cell_type": "code",
   "execution_count": 110,
   "id": "096b69fb",
   "metadata": {},
   "outputs": [
    {
     "data": {
      "text/plain": [
       "<sqlalchemy.engine.cursor.LegacyCursorResult at 0x1806bd60750>"
      ]
     },
     "execution_count": 110,
     "metadata": {},
     "output_type": "execute_result"
    }
   ],
   "source": [
    "# School\n",
    "db.execute('''\n",
    "CREATE TABLE school (\n",
    "    USE_ID INTEGER PRIMARY KEY,\n",
    "    USE_DESC VARCHAR(255),\n",
    "    geometry geometry(MULTIPOLYGON, 7844),\n",
    "    sa2_code VARCHAR(255),\n",
    "    FOREIGN KEY (sa2_code) REFERENCES SA2(sa2_code)\n",
    ")\n",
    "''')"
   ]
  },
  {
   "cell_type": "code",
   "execution_count": 111,
   "id": "196a3929",
   "metadata": {},
   "outputs": [
    {
     "data": {
      "text/plain": [
       "<sqlalchemy.engine.cursor.LegacyCursorResult at 0x18069ac4a50>"
      ]
     },
     "execution_count": 111,
     "metadata": {},
     "output_type": "execute_result"
    }
   ],
   "source": [
    "# Population\n",
    "db.execute('''\n",
    "CREATE TABLE population (\n",
    "    sa2_code VARCHAR(255),\n",
    "    sa2_name VARCHAR(255),\n",
    "    young_people INTEGER,\n",
    "    total_people INTEGER,\n",
    "    PRIMARY KEY (sa2_code),\n",
    "    FOREIGN KEY (sa2_code) REFERENCES SA2(sa2_code)\n",
    ")\n",
    "''')"
   ]
  },
  {
   "cell_type": "code",
   "execution_count": 112,
   "id": "26fb2ea5",
   "metadata": {},
   "outputs": [
    {
     "data": {
      "text/plain": [
       "<sqlalchemy.engine.cursor.LegacyCursorResult at 0x18069ac4250>"
      ]
     },
     "execution_count": 112,
     "metadata": {},
     "output_type": "execute_result"
    }
   ],
   "source": [
    "# Income\n",
    "db.execute('''\n",
    "CREATE TABLE income (\n",
    "    sa2_code VARCHAR(255),\n",
    "    sa2_name VARCHAR(255),\n",
    "    earners INTEGER,\n",
    "    median_age FLOAT,\n",
    "    median_income FLOAT,\n",
    "    mean_income FLOAT,\n",
    "    total_income FLOAT,\n",
    "    PRIMARY KEY (sa2_code),\n",
    "    FOREIGN KEY (sa2_code) REFERENCES SA2(sa2_code)\n",
    ")\n",
    "''')"
   ]
  },
  {
   "cell_type": "markdown",
   "id": "ba163fab",
   "metadata": {},
   "source": [
    "In the Businesses, Population, and Income tables, the SA2_code column is defined as a foreign key, which references the SA2_code column in the SA2 table as the primary key. This establishes an association between these tables."
   ]
  },
  {
   "cell_type": "markdown",
   "id": "fa0b640a",
   "metadata": {},
   "source": [
    "Load the cleaned data to the server one by one."
   ]
  },
  {
   "cell_type": "code",
   "execution_count": 115,
   "id": "494dbc02",
   "metadata": {},
   "outputs": [],
   "source": [
    "SA2.to_postgis('sa2', db, index=False,if_exists='append')"
   ]
  },
  {
   "cell_type": "code",
   "execution_count": 7,
   "id": "5919b30a",
   "metadata": {},
   "outputs": [
    {
     "data": {
      "text/plain": [
       "543"
      ]
     },
     "execution_count": 7,
     "metadata": {},
     "output_type": "execute_result"
    }
   ],
   "source": [
    "Polls.to_sql('polls', db, index=False, if_exists='append')"
   ]
  },
  {
   "cell_type": "code",
   "execution_count": 117,
   "id": "798e69a5",
   "metadata": {},
   "outputs": [
    {
     "data": {
      "text/plain": [
       "373"
      ]
     },
     "execution_count": 117,
     "metadata": {},
     "output_type": "execute_result"
    }
   ],
   "source": [
    "Population.to_sql('population', db, index=False, if_exists='append')\n",
    "Income.to_sql('income', db, index=False, if_exists='append')\n",
    "Stops.to_sql('stops', db, index=False, if_exists='append')\n",
    "Polls.to_sql('polls', db, index=False, if_exists='append')"
   ]
  },
  {
   "cell_type": "code",
   "execution_count": 17,
   "id": "3de1c8d7",
   "metadata": {},
   "outputs": [],
   "source": [
    "School.to_postgis('school', db, index=False, if_exists='append')"
   ]
  },
  {
   "cell_type": "code",
   "execution_count": 172,
   "id": "9e15251c",
   "metadata": {},
   "outputs": [
    {
     "data": {
      "text/plain": [
       "198"
      ]
     },
     "execution_count": 172,
     "metadata": {},
     "output_type": "execute_result"
    }
   ],
   "source": [
    "Businesses.to_sql('businesses', db, index=False, if_exists='append')"
   ]
  },
  {
   "cell_type": "markdown",
   "id": "71456862",
   "metadata": {},
   "source": [
    "Next, associate SA2_code with SA2 by obtaining the latitude and longitude from Stops, Polls, and School tables.And if sa2 does not match the content, delete the data."
   ]
  },
  {
   "cell_type": "code",
   "execution_count": 8,
   "id": "d8c8e359",
   "metadata": {},
   "outputs": [
    {
     "data": {
      "text/plain": [
       "<sqlalchemy.engine.cursor.LegacyCursorResult at 0x1a5210c28d0>"
      ]
     },
     "execution_count": 8,
     "metadata": {},
     "output_type": "execute_result"
    }
   ],
   "source": [
    "db.execute('''\n",
    "ALTER TABLE Stops\n",
    "ADD COLUMN geom GEOMETRY(Point, 4326);\n",
    "UPDATE Stops\n",
    "SET geom = ST_SetSRID(ST_MakePoint(longitude, latitude), 4326);\n",
    "ALTER TABLE Stops\n",
    "ADD COLUMN geometry_7844 GEOMETRY(Point, 7844);\n",
    "UPDATE Stops\n",
    "SET geometry_7844 = ST_Transform(geom, 7844);\n",
    "\n",
    "UPDATE Stops s\n",
    "SET sa2_code = sa2.sa2_code\n",
    "FROM SA2 sa2\n",
    "WHERE ST_Within(s.geometry_7844, sa2.geometry);\n",
    "\n",
    "DELETE FROM Stops\n",
    "WHERE sa2_code IS NULL;\n",
    "\n",
    "ALTER TABLE Stops\n",
    "DROP COLUMN geom;\n",
    "ALTER TABLE Stops\n",
    "DROP COLUMN geometry_7844;\n",
    "''')"
   ]
  },
  {
   "cell_type": "code",
   "execution_count": 8,
   "id": "c9f9995e",
   "metadata": {},
   "outputs": [
    {
     "data": {
      "text/plain": [
       "<sqlalchemy.engine.cursor.LegacyCursorResult at 0x204433f2c90>"
      ]
     },
     "execution_count": 8,
     "metadata": {},
     "output_type": "execute_result"
    }
   ],
   "source": [
    "db.execute('''\n",
    "ALTER TABLE Polls\n",
    "ADD COLUMN geom GEOMETRY(Point, 4326);\n",
    "UPDATE Polls\n",
    "SET geom = ST_SetSRID(ST_MakePoint(longitude, latitude), 4326);\n",
    "ALTER TABLE Polls\n",
    "ADD COLUMN geometry_7844 GEOMETRY(Point, 7844);\n",
    "UPDATE Polls\n",
    "SET geometry_7844 = ST_Transform(geom, 7844);\n",
    "\n",
    "UPDATE Polls p\n",
    "SET sa2_code = sa2.sa2_code\n",
    "FROM SA2 sa2\n",
    "WHERE ST_Within(p.geometry_7844, sa2.geometry);\n",
    "\n",
    "DELETE FROM Polls\n",
    "WHERE sa2_code IS NULL;\n",
    "\n",
    "ALTER TABLE Polls\n",
    "DROP COLUMN geom;\n",
    "ALTER TABLE Polls\n",
    "DROP COLUMN geometry_7844;\n",
    "''')"
   ]
  },
  {
   "cell_type": "code",
   "execution_count": 21,
   "id": "f1dc32f4",
   "metadata": {},
   "outputs": [
    {
     "data": {
      "text/plain": [
       "<sqlalchemy.engine.cursor.LegacyCursorResult at 0x204464aae50>"
      ]
     },
     "execution_count": 21,
     "metadata": {},
     "output_type": "execute_result"
    }
   ],
   "source": [
    "db.execute('''\n",
    "UPDATE School s\n",
    "SET SA2_code = sa2.SA2_code\n",
    "FROM SA2 sa2\n",
    "WHERE ST_Within(s.geometry, sa2.geometry);\n",
    "\n",
    "DELETE FROM School\n",
    "WHERE sa2_code IS NULL;\n",
    "''')"
   ]
  },
  {
   "cell_type": "code",
   "execution_count": null,
   "id": "472382ed",
   "metadata": {},
   "outputs": [],
   "source": []
  }
 ],
 "metadata": {
  "kernelspec": {
   "display_name": "Python 3 (ipykernel)",
   "language": "python",
   "name": "python3"
  },
  "language_info": {
   "codemirror_mode": {
    "name": "ipython",
    "version": 3
   },
   "file_extension": ".py",
   "mimetype": "text/x-python",
   "name": "python",
   "nbconvert_exporter": "python",
   "pygments_lexer": "ipython3",
   "version": "3.11.5"
  }
 },
 "nbformat": 4,
 "nbformat_minor": 5
}
